{
 "cells": [
  {
   "attachments": {},
   "cell_type": "markdown",
   "metadata": {},
   "source": [
    "# Laboratorio 4 - Inteligencia Artificial"
   ]
  },
  {
   "cell_type": "code",
   "execution_count": 11,
   "metadata": {},
   "outputs": [],
   "source": [
    "import numpy as np\n",
    "from math import *\n",
    "import random as rd\n",
    "import pandas as pd\n",
    "from sklearn.model_selection import train_test_split\n",
    "from sklearn.metrics import r2_score\n",
    "import matplotlib.pyplot as plt"
   ]
  },
  {
   "attachments": {},
   "cell_type": "markdown",
   "metadata": {},
   "source": [
    "## Task 1.1"
   ]
  },
  {
   "cell_type": "code",
   "execution_count": 2,
   "metadata": {},
   "outputs": [],
   "source": [
    "#data = np.genfromtxt(\"./kc_house_data.csv\", delimiter=\",\",names=True, dtype=None, encoding=None)\n",
    "data = pd.read_csv(\"./kc_house_data.csv\")"
   ]
  },
  {
   "attachments": {},
   "cell_type": "markdown",
   "metadata": {},
   "source": [
    "##### Se leyó el archivo csv utilizando la librería numpy. La data esta delimitada por ','"
   ]
  },
  {
   "attachments": {},
   "cell_type": "markdown",
   "metadata": {},
   "source": [
    "## Task 1.2"
   ]
  },
  {
   "cell_type": "code",
   "execution_count": 3,
   "metadata": {},
   "outputs": [],
   "source": [
    "Y = np.array(data[\"price\"])\n",
    "X = np.array(data[\"sqft_living\"])\n",
    "\n",
    "\n",
    "X_train, X_test, Y_train, Y_test = train_test_split(X, Y, test_size=0.2, random_state=42)"
   ]
  },
  {
   "attachments": {},
   "cell_type": "markdown",
   "metadata": {},
   "source": [
    "Se dividió la data en training y en testing, con porcentajes de 80% training y 20% testing."
   ]
  },
  {
   "cell_type": "code",
   "execution_count": 8,
   "metadata": {},
   "outputs": [],
   "source": [
    "# se calcula la matriz \n",
    "def matriz_pol(datos, k):\n",
    "    X = []\n",
    "    for i in range(len(datos)):\n",
    "        temp = []\n",
    "        for j in range(k+1):\n",
    "            temp.append(datos[i]**j)\n",
    "        X.append(temp)\n",
    "\n",
    "    X = np.array(X)\n",
    "    return X\n",
    "\n",
    "# se crea W\n",
    "def w_pol(k):\n",
    "    \n",
    "    W = []    \n",
    "    for i in range(k+1):\n",
    "        W.append(rd.randint(0, 100))        \n",
    "    W = np.array(W)\n",
    "    return W"
   ]
  },
  {
   "attachments": {},
   "cell_type": "markdown",
   "metadata": {},
   "source": [
    "Se crearon las funciones para poder convertir los datos en forma matricial y así poder aplicar la regresión.\n",
    "- matriz_pol() crea una matriz con los valores de X pero elevados a la potencia que se recibe como parametro de la forma [xi^0, xi^1, ... xi^k]\n",
    "- w_pol() crea la matriz de pesos iniciales con valores aleatorios de 0 a 100.\n"
   ]
  },
  {
   "attachments": {},
   "cell_type": "markdown",
   "metadata": {},
   "source": [
    "## Task 1.3"
   ]
  },
  {
   "attachments": {},
   "cell_type": "markdown",
   "metadata": {},
   "source": [
    "Implementación vectorial del algoritmo de regresión lineal."
   ]
  },
  {
   "cell_type": "code",
   "execution_count": 9,
   "metadata": {},
   "outputs": [],
   "source": [
    "# Building the model\n",
    "def crear_modelo(X_data, Y_data, polinomio, learning):\n",
    "    x = matriz_pol(X_data, polinomio) # X de forma de matriz de grado 1\n",
    "    y = np.array(Y_data) \n",
    "    x_trans = x.transpose() # X transpuesta\n",
    "    w = w_pol(polinomio) # W con valores aleatorios\n",
    "\n",
    "    w_t = w.transpose()\n",
    "    t = np.dot(w_t, x_trans)\n",
    "\n",
    "    error = 0\n",
    "    L = learning # The learning Rate\n",
    "    epochs = 10000 # The number of iterations\n",
    "\n",
    "    n = len(X_data)\n",
    "    # Performing Gradient Descent \n",
    "    for i in range(epochs): \n",
    "\n",
    "        y_pred = np.dot(x, w)\n",
    "        y_y = np.subtract(y, y_pred)\n",
    "        x_y = np.dot(x_trans, y_y)\n",
    "        n_x_y = np.dot((-2/n),  x_y)\n",
    "        l_n_x_y = np.dot(L, n_x_y)\n",
    "        w = w - l_n_x_y\n",
    "\n",
    "        error = (1/n) * np.dot((t - np.dot(x, w)).transpose(), (t - np.dot(x, w)))\n",
    "    \n",
    "    return w, error, x \n",
    "\n"
   ]
  },
  {
   "attachments": {},
   "cell_type": "markdown",
   "metadata": {},
   "source": [
    "Seo la funcion crear_modelo() que recibe la data en X, Y, el grado del polinomio y el Learning Rate. Se utiliza el algoritmo de gradient descent para modificar los pesos en cada iteración y así encontrar un peso final con las iteraciones y el learning rate seleccionado. Asimismo se calcula el error para luego ser analizado."
   ]
  },
  {
   "attachments": {},
   "cell_type": "markdown",
   "metadata": {},
   "source": [
    "## Task 1.4"
   ]
  },
  {
   "cell_type": "code",
   "execution_count": 10,
   "metadata": {},
   "outputs": [
    {
     "name": "stdout",
     "output_type": "stream",
     "text": [
      "Error para el polinomio de grado  1  y learning rate  1.2e-07  es:  209804409130.72534\n",
      "Error para el polinomio de grado  2  y learning rate  1.2e-14  es:  1.54255589656367e+17\n",
      "Error para el polinomio de grado  3  y learning rate  1.2e-22  es:  5.844243984891236e+24\n"
     ]
    }
   ],
   "source": [
    "# Se dividen la data de training en 5 subarrays\n",
    "subarrays = np.array_split(X_train, 5)\n",
    "subarrays_y = np.array_split(Y_train, 5)\n",
    "\n",
    "# Se guardan los valores del learning rate que mejor se adaptan a las regresiones\n",
    "L1 = 0.00000012\n",
    "L2 = 0.000000000000012\n",
    "L3 = 0.00000000000000000000012\n",
    "L = [L1, L2, L3]\n",
    "\n",
    "for i in range(3):\n",
    "    w1, error1, x1 = crear_modelo(subarrays[0], subarrays_y[0], i+1, L[i])\n",
    "    w2, error2, x2 = crear_modelo(subarrays[1], subarrays_y[1], i+1, L[i])\n",
    "    w3, error3, x3 = crear_modelo(subarrays[2], subarrays_y[2], i+1, L[i])\n",
    "    w4, error4, x4 = crear_modelo(subarrays[3], subarrays_y[3], i+1, L[i])\n",
    "    w5, error5, x5 = crear_modelo(subarrays[4], subarrays_y[4], i+1, L[i])\n",
    "\n",
    "    error = (error1+error2+error3+error4+error5)/5\n",
    "    print(\"Error para el polinomio de grado \", i+1, \" y learning rate \", L[i], \" es: \", error)\n",
    "\n"
   ]
  },
  {
   "attachments": {},
   "cell_type": "markdown",
   "metadata": {},
   "source": [
    "## Task 1.5\n"
   ]
  },
  {
   "attachments": {},
   "cell_type": "markdown",
   "metadata": {},
   "source": [
    "Luego de separar la data en 5 folds, y calcular el error con los 3 polinomios seleccionados, se encontró el promedio por cada polinomio y se llegó a la conclusión que aunque es alto, el polinomio que mejor se ajusta es el de grado 1."
   ]
  },
  {
   "cell_type": "code",
   "execution_count": 20,
   "metadata": {},
   "outputs": [
    {
     "name": "stdout",
     "output_type": "stream",
     "text": [
      "El coeficiente de determinación r^2 es de:  0.4913090024381399\n"
     ]
    },
    {
     "data": {
      "image/png": "[encoded data removed]",
      "text/plain": [
       "<Figure size 640x480 with 1 Axes>"
      ]
     },
     "metadata": {},
     "output_type": "display_data"
    }
   ],
   "source": [
    "\n",
    "L1 = 0.00000012\n",
    "\n",
    "w, error, x = crear_modelo(X_train, Y_train, 1, L1)\n",
    "\n",
    "x = matriz_pol(X_test, 1)\n",
    "Y = np.dot(x, w)\n",
    "\n",
    "max_indx = np.unravel_index(np.argmax(Y), Y.shape)\n",
    "min_indx = np.unravel_index(np.argmin(Y), Y.shape)\n",
    "\n",
    "x_maximo = x[max_indx]\n",
    "x_minimo = x[min_indx]\n",
    "y_maximo = Y[max_indx]\n",
    "y_minimo = Y[min_indx]\n",
    "\n",
    "x = [x_maximo[1], x_minimo[1]]\n",
    "y = [y_maximo, y_minimo]\n",
    "\n",
    "plt.plot(X_test, Y_test, 'o', color='black')\n",
    "plt.plot(x, y, color='red')\n",
    "\n",
    "score = r2_score(Y_test, Y)\n",
    "print(\"El coeficiente de determinación r^2 es de: \", score)\n"
   ]
  },
  {
   "attachments": {},
   "cell_type": "markdown",
   "metadata": {},
   "source": [
    "Luego de tomar el polinomio con el menor error, calculamos con todo el dataset de training los pesos para que, utilizando estos valores pudieramos encontrar los valores en y predichos con el data set de testing. Estos valores se graficaron y luego se encontró el coeficiente de correlación para ver si se ajusta a los valores reales. Dicho coeficiente dio un resultado de 0.49 indicando que aunque no se ajusta perfectamente, si tiene correlación con los datos reales."
   ]
  }
 ],
 "metadata": {
  "kernelspec": {
   "display_name": "Python 3",
   "language": "python",
   "name": "python3"
  },
  "language_info": {
   "codemirror_mode": {
    "name": "ipython",
    "version": 3
   },
   "file_extension": ".py",
   "mimetype": "text/x-python",
   "name": "python",
   "nbconvert_exporter": "python",
   "pygments_lexer": "ipython3",
   "version": "3.10.7"
  },
  "orig_nbformat": 4,
  "vscode": {
   "interpreter": {
    "hash": "bfe929c65df340e894f9ae71bf770ec33e495c52b632e52ba7aa719fa88215b3"
   }
  }
 },
 "nbformat": 4,
 "nbformat_minor": 2
}
