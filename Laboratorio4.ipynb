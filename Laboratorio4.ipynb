{
 "cells": [
  {
   "attachments": {},
   "cell_type": "markdown",
   "metadata": {},
   "source": [
    "# Laboratorio 4 - Inteligencia Artificial"
   ]
  },
  {
   "cell_type": "code",
   "execution_count": 2,
   "metadata": {},
   "outputs": [],
   "source": [
    "import numpy as np\n",
    "import statistics\n",
    "from math import *\n",
    "import pandas as pd\n",
    "from sklearn.model_selection import train_test_split"
   ]
  },
  {
   "attachments": {},
   "cell_type": "markdown",
   "metadata": {},
   "source": [
    "## Task 1.1"
   ]
  },
  {
   "cell_type": "code",
   "execution_count": 4,
   "metadata": {},
   "outputs": [],
   "source": [
    "#data = np.genfromtxt(\"./kc_house_data.csv\", delimiter=\",\",names=True, dtype=None, encoding=None)\n",
    "data = pd.read_csv(\"./kc_house_data.csv\")"
   ]
  },
  {
   "attachments": {},
   "cell_type": "markdown",
   "metadata": {},
   "source": [
    "##### Se leyó el archivo csv utilizando la librería numpy. La data esta delimitada por ','"
   ]
  },
  {
   "attachments": {},
   "cell_type": "markdown",
   "metadata": {},
   "source": [
    "## Task 1.2"
   ]
  },
  {
   "cell_type": "code",
   "execution_count": 15,
   "metadata": {},
   "outputs": [
    {
     "name": "stdout",
     "output_type": "stream",
     "text": [
      "La pendiente es:  280.6232985754391\n",
      "El intercepto es:  -43327.69597180851\n",
      "Pendiente: 280.62\n",
      "Intersección en y: -43580.74\n"
     ]
    }
   ],
   "source": [
    "Y = np.array(data[\"price\"])\n",
    "X = np.array(data[\"sqft_living\"])\n",
    "\n",
    "x_mean = statistics.mean(X)\n",
    "y_mean = statistics.mean(Y)\n",
    "\n",
    "# Calcular la covarianza de X e Y\n",
    "covXY = sum([(X[i] - x_mean) * (Y[i] - y_mean) for i in range(len(X))]) / (len(X)-1)\n",
    "\n",
    "# Calcular la desviación estándar de X e Y\n",
    "sX = (sum([(x - x_mean)**2 for x in X]) / (len(X)-1))**0.5\n",
    "sY = (sum([(y - y_mean)**2 for y in Y]) / (len(Y)-1))**0.5\n",
    "\n",
    "r = covXY / (sX * sY)\n",
    "\n",
    "m = r * (sY / sX)\n",
    "\n",
    "b = y_mean - m * x_mean\n",
    "\n",
    "print(\"La pendiente es: \", m)\n",
    "print(\"El intercepto es: \", b)\n",
    "\n",
    "\n",
    "\n",
    "# sqft_living = np.array(data[\"sqft_living\"])\n",
    "# price = np.array(data[\"price\"])\n",
    "\n",
    "# n = len(sqft_living)\n",
    "# sum_x = sum(sqft_living)\n",
    "# sum_y = sum(price)\n",
    "# sum_x2 = sum([x**2 for x in sqft_living])\n",
    "# sum_xy = sum([x*y for x, y in zip(sqft_living, price)])\n",
    "\n",
    "# m = (n * sum_xy - sum_x * sum_y) / (n * sum_x2 - sum_x**2)\n",
    "# b = (sum_y - m * sum_x) / n\n",
    "\n",
    "# print(f'Pendiente: {m:.2f}')\n",
    "# print(f'Intersección en y: {b:.2f}')\n",
    "\n",
    "# def RegresionLineal(x):\n",
    "#     return (m * x) + b"
   ]
  },
  {
   "cell_type": "markdown",
   "metadata": {},
   "source": []
  },
  {
   "cell_type": "code",
   "execution_count": 17,
   "metadata": {},
   "outputs": [
    {
     "ename": "IndexError",
     "evalue": "tuple index out of range",
     "output_type": "error",
     "traceback": [
      "\u001b[1;31m---------------------------------------------------------------------------\u001b[0m",
      "\u001b[1;31mIndexError\u001b[0m                                Traceback (most recent call last)",
      "Cell \u001b[1;32mIn[17], line 1\u001b[0m\n\u001b[1;32m----> 1\u001b[0m theta \u001b[39m=\u001b[39m np\u001b[39m.\u001b[39mzeros(X\u001b[39m.\u001b[39;49mshape[\u001b[39m1\u001b[39;49m])\n\u001b[0;32m      2\u001b[0m \u001b[39m# Paso 5: Establecer una tasa de aprendizaje y un número de iteraciones\u001b[39;00m\n\u001b[0;32m      3\u001b[0m learning_rate \u001b[39m=\u001b[39m \u001b[39m0.000001\u001b[39m\n",
      "\u001b[1;31mIndexError\u001b[0m: tuple index out of range"
     ]
    }
   ],
   "source": [
    "theta = np.zeros(X.shape[1])\n",
    "# Paso 5: Establecer una tasa de aprendizaje y un número de iteraciones\n",
    "learning_rate = 0.000001\n",
    "num_iterations = 1000\n",
    "\n",
    "# Paso 6: Implementar el algoritmo de descenso de gradiente\n",
    "m = X.shape[0]\n",
    "for i in range(num_iterations):\n",
    "    theta = theta - learning_rate / m * X.T.dot(X.dot(theta) - y)\n",
    "\n",
    "# Paso 8: Imprimir los valores de los parámetros obtenidos después de la última iteración\n",
    "print(f'Parámetros: {theta}')"
   ]
  },
  {
   "attachments": {},
   "cell_type": "markdown",
   "metadata": {},
   "source": [
    "## Task 1.3"
   ]
  },
  {
   "cell_type": "code",
   "execution_count": 11,
   "metadata": {},
   "outputs": [],
   "source": [
    "X_train, X_test, Y_train, Y_test = train_test_split(X, Y, test_size=0.2, random_state=42)"
   ]
  },
  {
   "attachments": {},
   "cell_type": "markdown",
   "metadata": {},
   "source": [
    "Se separan los datos para entrenamiento y para testing."
   ]
  },
  {
   "cell_type": "code",
   "execution_count": null,
   "metadata": {},
   "outputs": [],
   "source": [
    "m = 0\n",
    "c = 0\n",
    "\n",
    "L = 0.0001  # The learning Rate\n",
    "epochs = 1000  # iteraciones en el grading descent\n",
    "\n",
    "\n",
    "\n",
    "# n = float(len(X_train)) # Number of elements in X\n",
    "# for i in range(epochs):\n",
    "#     Y_pred = m*X_train + c  # The current predicted value of Y\n",
    "#     D_m = (-2/n) * sum(X_train * (Y_train - Y_pred))  # Derivative wrt m\n",
    "#     D_c = (-2/n) * sum(Y_train - Y_pred)  # Derivative wrt c\n",
    "#     m = m - L * D_m  # Update m\n",
    "#     c = c - L * D_c  # Update c"
   ]
  }
 ],
 "metadata": {
  "kernelspec": {
   "display_name": "Python 3",
   "language": "python",
   "name": "python3"
  },
  "language_info": {
   "codemirror_mode": {
    "name": "ipython",
    "version": 3
   },
   "file_extension": ".py",
   "mimetype": "text/x-python",
   "name": "python",
   "nbconvert_exporter": "python",
   "pygments_lexer": "ipython3",
   "version": "3.10.5"
  },
  "orig_nbformat": 4,
  "vscode": {
   "interpreter": {
    "hash": "9271a60cc098b6f4b598357d8d0158fb1246f5f90b7390f7c01040ba30c79fe3"
   }
  }
 },
 "nbformat": 4,
 "nbformat_minor": 2
}
