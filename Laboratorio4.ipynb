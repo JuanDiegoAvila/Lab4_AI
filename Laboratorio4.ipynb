{
 "cells": [
  {
   "attachments": {},
   "cell_type": "markdown",
   "metadata": {},
   "source": [
    "# Laboratorio 4 - Inteligencia Artificial"
   ]
  },
  {
   "cell_type": "code",
   "execution_count": 1,
   "metadata": {},
   "outputs": [],
   "source": [
    "import numpy as np\n",
    "import statistics\n",
    "from math import *\n",
    "import pandas as pd\n",
    "from sklearn.model_selection import train_test_split"
   ]
  },
  {
   "attachments": {},
   "cell_type": "markdown",
   "metadata": {},
   "source": [
    "## Task 1.1"
   ]
  },
  {
   "cell_type": "code",
   "execution_count": 4,
   "metadata": {},
   "outputs": [],
   "source": [
    "#data = np.genfromtxt(\"./kc_house_data.csv\", delimiter=\",\",names=True, dtype=None, encoding=None)\n",
    "data = pd.read_csv(\"./kc_house_data.csv\")"
   ]
  },
  {
   "attachments": {},
   "cell_type": "markdown",
   "metadata": {},
   "source": [
    "##### Se leyó el archivo csv utilizando la librería numpy. La data esta delimitada por ','"
   ]
  },
  {
   "attachments": {},
   "cell_type": "markdown",
   "metadata": {},
   "source": [
    "## Task 1.2"
   ]
  },
  {
   "cell_type": "code",
   "execution_count": 8,
   "metadata": {},
   "outputs": [],
   "source": [
    "Y = np.array(data[\"price\"])\n",
    "X = np.array(data[\"sqft_living\"])\n",
    "\n",
    "\n",
    "X_train, X_test, Y_train, Y_test = train_test_split(X, Y, test_size=0.2, random_state=42)"
   ]
  },
  {
   "cell_type": "code",
   "execution_count": 10,
   "metadata": {},
   "outputs": [
    {
     "name": "stdout",
     "output_type": "stream",
     "text": [
      "[[416.66666666680953], [-329487.1794870596]]\n"
     ]
    }
   ],
   "source": [
    "# x_mean = statistics.mean(X)\n",
    "# y_mean = statistics.mean(Y)\n",
    "\n",
    "# # Calcular la covarianza de X e Y\n",
    "# covXY = sum([(X[i] - x_mean) * (Y[i] - y_mean) for i in range(len(X))]) / (len(X)-1)\n",
    "\n",
    "# # Calcular la desviación estándar de X e Y\n",
    "# sX = (sum([(x - x_mean)**2 for x in X]) / (len(X)-1))**0.5\n",
    "# sY = (sum([(y - y_mean)**2 for y in Y]) / (len(Y)-1))**0.5\n",
    "\n",
    "# r = covXY / (sX * sY)\n",
    "\n",
    "# m = r * (sY / sX)\n",
    "\n",
    "# b = y_mean - m * x_mean\n",
    "\n",
    "# print(\"La pendiente es: \", m)\n",
    "# print(\"El intercepto es: \", b)\n",
    "\n",
    "\n",
    "\n",
    "# sqft_living = np.array(data[\"sqft_living\"])\n",
    "# price = np.array(data[\"price\"])\n",
    "\n",
    "# n = len(sqft_living)\n",
    "# sum_x = sum(sqft_living)\n",
    "# sum_y = sum(price)\n",
    "# sum_x2 = sum([x**2 for x in sqft_living])\n",
    "# sum_xy = sum([x*y for x, y in zip(sqft_living, price)])\n",
    "\n",
    "# m = (n * sum_xy - sum_x * sum_y) / (n * sum_x2 - sum_x**2)\n",
    "# b = (sum_y - m * sum_x) / n\n",
    "\n",
    "# print(f'Pendiente: {m:.2f}')\n",
    "# print(f'Intersección en y: {b:.2f}')\n",
    "\n",
    "# def RegresionLineal(x):\n",
    "#     return (m * x) + b\n",
    "\n",
    "\n",
    "# Convertir las columnas del dataframe en listas\n",
    "sqft_living = X_train\n",
    "price = Y_train\n",
    "\n",
    "# Crear una matriz matricial con las listas\n",
    "matrix = []\n",
    "for i in range(len(sqft_living)):\n",
    "    row = [sqft_living[i], 1]\n",
    "    matrix.append(row)\n",
    "\n",
    "# Convertir la matriz matricial en una lista de listas\n",
    "y = [[price[i]] for i in range(len(price))]\n",
    "\n",
    "# Realizar la regresión lineal manualmente\n",
    "# Calcular la matriz transpuesta de la matriz matricial\n",
    "matrix_T = [[matrix[j][i] for j in range(len(matrix))] for i in range(len(matrix[0]))]\n",
    "\n",
    "# Calcular el producto de la matriz matricial y su transpuesta\n",
    "matrix_product = [[sum(a * b for a, b in zip(matrix_row, matrix_T_col)) for matrix_T_col in matrix_T] for matrix_row in matrix]\n",
    "\n",
    "# Calcular la inversa de la matriz producto\n",
    "det = (matrix_product[0][0] * matrix_product[1][1]) - (matrix_product[0][1] * matrix_product[1][0])\n",
    "matrix_product_inv = [[matrix_product[1][1]/det, -matrix_product[0][1]/det], [-matrix_product[1][0]/det, matrix_product[0][0]/det]]\n",
    "\n",
    "# Calcular el producto de la inversa de la matriz producto y la matriz transpuesta\n",
    "final_product = [[sum(a * b for a, b in zip(matrix_product_inv_row, matrix_T_col)) for matrix_T_col in matrix_T] for matrix_product_inv_row in matrix_product_inv]\n",
    "\n",
    "# Calcular el producto final con la lista de precios\n",
    "result = [[sum(a * b for a, b in zip(final_product_row, y_col))] for final_product_row, y_col in zip(final_product, y)]\n",
    "\n",
    "# Imprimir los resultados\n",
    "print(result)\n",
    "m = result[0]\n",
    "c = result[1]\n"
   ]
  },
  {
   "cell_type": "markdown",
   "metadata": {},
   "source": []
  },
  {
   "cell_type": "code",
   "execution_count": null,
   "metadata": {},
   "outputs": [],
   "source": [
    "sqft_living = X_test\n",
    "price = Y_test\n",
    "for i in range(len(sqft_living)):\n",
    "    print(f'Valor real: {price[i]}')\n",
    "    print(f'Valor predicho: {m * sqft_living[i] + c}')\n",
    "    \n",
    "# theta = np.zeros(X.shape[1])\n",
    "# # Paso 5: Establecer una tasa de aprendizaje y un número de iteraciones\n",
    "# learning_rate = 0.000001\n",
    "# num_iterations = 1000\n",
    "\n",
    "# # Paso 6: Implementar el algoritmo de descenso de gradiente\n",
    "# m = X.shape[0]\n",
    "# for i in range(num_iterations):\n",
    "#     theta = theta - learning_rate / m * X.T.dot(X.dot(theta) - y)\n",
    "\n",
    "# # Paso 8: Imprimir los valores de los parámetros obtenidos después de la última iteración\n",
    "# print(f'Parámetros: {theta}')"
   ]
  },
  {
   "attachments": {},
   "cell_type": "markdown",
   "metadata": {},
   "source": [
    "## Task 1.3"
   ]
  },
  {
   "attachments": {},
   "cell_type": "markdown",
   "metadata": {},
   "source": [
    "Se separan los datos para entrenamiento y para testing."
   ]
  },
  {
   "cell_type": "code",
   "execution_count": null,
   "metadata": {},
   "outputs": [],
   "source": [
    "m = 0\n",
    "c = 0\n",
    "\n",
    "L = 0.0001  # The learning Rate\n",
    "epochs = 1000  # iteraciones en el grading descent\n",
    "\n",
    "\n",
    "\n",
    "# n = float(len(X_train)) # Number of elements in X\n",
    "# for i in range(epochs):\n",
    "#     Y_pred = m*X_train + c  # The current predicted value of Y\n",
    "#     D_m = (-2/n) * sum(X_train * (Y_train - Y_pred))  # Derivative wrt m\n",
    "#     D_c = (-2/n) * sum(Y_train - Y_pred)  # Derivative wrt c\n",
    "#     m = m - L * D_m  # Update m\n",
    "#     c = c - L * D_c  # Update c"
   ]
  }
 ],
 "metadata": {
  "kernelspec": {
   "display_name": "Python 3",
   "language": "python",
   "name": "python3"
  },
  "language_info": {
   "codemirror_mode": {
    "name": "ipython",
    "version": 3
   },
   "file_extension": ".py",
   "mimetype": "text/x-python",
   "name": "python",
   "nbconvert_exporter": "python",
   "pygments_lexer": "ipython3",
   "version": "3.10.7"
  },
  "orig_nbformat": 4,
  "vscode": {
   "interpreter": {
    "hash": "bfe929c65df340e894f9ae71bf770ec33e495c52b632e52ba7aa719fa88215b3"
   }
  }
 },
 "nbformat": 4,
 "nbformat_minor": 2
}
