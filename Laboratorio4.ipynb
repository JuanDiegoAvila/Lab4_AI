{
 "cells": [
  {
   "attachments": {},
   "cell_type": "markdown",
   "metadata": {},
   "source": [
    "# Laboratorio 4 - Inteligencia Artificial"
   ]
  },
  {
   "cell_type": "code",
   "execution_count": 27,
   "metadata": {},
   "outputs": [],
   "source": [
    "import numpy as np\n",
    "from math import *\n",
    "import random as rd\n",
    "import pandas as pd\n",
    "from sklearn.model_selection import train_test_split\n",
    "import matplotlib.pyplot as plt"
   ]
  },
  {
   "attachments": {},
   "cell_type": "markdown",
   "metadata": {},
   "source": [
    "## Task 1.1"
   ]
  },
  {
   "cell_type": "code",
   "execution_count": 28,
   "metadata": {},
   "outputs": [],
   "source": [
    "#data = np.genfromtxt(\"./kc_house_data.csv\", delimiter=\",\",names=True, dtype=None, encoding=None)\n",
    "data = pd.read_csv(\"./kc_house_data.csv\")"
   ]
  },
  {
   "attachments": {},
   "cell_type": "markdown",
   "metadata": {},
   "source": [
    "##### Se leyó el archivo csv utilizando la librería numpy. La data esta delimitada por ','"
   ]
  },
  {
   "attachments": {},
   "cell_type": "markdown",
   "metadata": {},
   "source": [
    "## Task 1.2"
   ]
  },
  {
   "cell_type": "code",
   "execution_count": 29,
   "metadata": {},
   "outputs": [],
   "source": [
    "Y = np.array(data[\"price\"])\n",
    "X = np.array(data[\"sqft_living\"])\n",
    "\n",
    "\n",
    "X_train, X_test, Y_train, Y_test = train_test_split(X, Y, test_size=0.2, random_state=42)"
   ]
  },
  {
   "cell_type": "code",
   "execution_count": 67,
   "metadata": {},
   "outputs": [],
   "source": [
    "# se calcula la matriz \n",
    "def matriz_pol(datos, k):\n",
    "    X = []\n",
    "    for i in range(len(datos)):\n",
    "        temp = []\n",
    "        for j in range(k+1):\n",
    "            temp.append(datos[i]**j)\n",
    "        X.append(temp)\n",
    "\n",
    "    X = np.array(X)\n",
    "    return X\n",
    "\n",
    "def matriz_Y(Y):\n",
    "    Y = np.array(Y)\n",
    "    Y = Y.reshape(len(Y), 1)\n",
    "    return Y\n",
    "\n",
    "# se calcula la matriz transpuesta\n",
    "def matriz_trans(X):\n",
    "    lineas = np.shape(X)[0]\n",
    "    columnas = np.shape(X)[1]\n",
    "    x = np.empty((columnas, lineas)) \n",
    "\n",
    "    for i in range(np.shape(X)[0]):\n",
    "        for j in range(np.shape(X)[1]):\n",
    "            x[j][i] = X[i][j]\n",
    "    return x\n",
    "\n",
    "# se crea W\n",
    "def w_pol(k):\n",
    "    \n",
    "    W = []    \n",
    "    for i in range(k+1):\n",
    "        W.append(rd.randint(0, 100))        \n",
    "    W = np.array(W)\n",
    "    return W"
   ]
  },
  {
   "attachments": {},
   "cell_type": "markdown",
   "metadata": {},
   "source": [
    "## Task 1.3"
   ]
  },
  {
   "attachments": {},
   "cell_type": "markdown",
   "metadata": {},
   "source": [
    "Implementación vectorial del algoritmo de regresión lineal."
   ]
  },
  {
   "cell_type": "code",
   "execution_count": 91,
   "metadata": {},
   "outputs": [
    {
     "ename": "ValueError",
     "evalue": "shapes (17290,2) and (17290,17290) not aligned: 2 (dim 1) != 17290 (dim 0)",
     "output_type": "error",
     "traceback": [
      "\u001b[1;31m---------------------------------------------------------------------------\u001b[0m",
      "\u001b[1;31mValueError\u001b[0m                                Traceback (most recent call last)",
      "Cell \u001b[1;32mIn[91], line 36\u001b[0m\n\u001b[0;32m     32\u001b[0m         \u001b[39mprint\u001b[39m(\u001b[39m'\u001b[39m\u001b[39mpaso\u001b[39m\u001b[39m'\u001b[39m)\n\u001b[0;32m     34\u001b[0m     \u001b[39mreturn\u001b[39;00m w, error\n\u001b[1;32m---> 36\u001b[0m w, error \u001b[39m=\u001b[39m crear_modelo(X_train, Y_train, \u001b[39m1\u001b[39;49m)\n\u001b[0;32m     38\u001b[0m \u001b[39m# print (m, c)\u001b[39;00m\n\u001b[0;32m     39\u001b[0m \n\u001b[0;32m     40\u001b[0m \u001b[39m# W = np.array([c, m])\u001b[39;00m\n\u001b[1;32m   (...)\u001b[0m\n\u001b[0;32m     54\u001b[0m \u001b[39m# plt.plot(X_train, Y_train, 'o', color='black')\u001b[39;00m\n\u001b[0;32m     55\u001b[0m \u001b[39m# plt.plot(x, y, color='red')\u001b[39;00m\n",
      "Cell \u001b[1;32mIn[91], line 28\u001b[0m, in \u001b[0;36mcrear_modelo\u001b[1;34m(X_data, Y_data, polinomio)\u001b[0m\n\u001b[0;32m     20\u001b[0m \u001b[39m# Performing Gradient Descent \u001b[39;00m\n\u001b[0;32m     21\u001b[0m \u001b[39mfor\u001b[39;00m i \u001b[39min\u001b[39;00m \u001b[39mrange\u001b[39m(epochs): \n\u001b[0;32m     22\u001b[0m \n\u001b[0;32m     23\u001b[0m     \u001b[39m#new_w = (-2/n) * np.dot(x, w)\u001b[39;00m\n\u001b[0;32m     24\u001b[0m \n\u001b[0;32m     25\u001b[0m     \u001b[39m# m = m - L * new_w[1]  # Update m\u001b[39;00m\n\u001b[0;32m     26\u001b[0m     \u001b[39m# c = c - L * new_w[0]  # Update c\u001b[39;00m\n\u001b[1;32m---> 28\u001b[0m     w \u001b[39m=\u001b[39m w \u001b[39m-\u001b[39m L \u001b[39m*\u001b[39m ((\u001b[39m-\u001b[39m\u001b[39m2\u001b[39m\u001b[39m/\u001b[39mn) \u001b[39m*\u001b[39m np\u001b[39m.\u001b[39;49mdot(x, (y \u001b[39m-\u001b[39;49m np\u001b[39m.\u001b[39;49mdot(x, w))))\n\u001b[0;32m     30\u001b[0m     error \u001b[39m=\u001b[39m (\u001b[39m1\u001b[39m\u001b[39m/\u001b[39mn) \u001b[39m*\u001b[39m (t \u001b[39m-\u001b[39m np\u001b[39m.\u001b[39mdot(x, w))\u001b[39m.\u001b[39mtranspose() \u001b[39m*\u001b[39m (t \u001b[39m-\u001b[39m np\u001b[39m.\u001b[39mdot(x, w))\n\u001b[0;32m     32\u001b[0m     \u001b[39mprint\u001b[39m(\u001b[39m'\u001b[39m\u001b[39mpaso\u001b[39m\u001b[39m'\u001b[39m)\n",
      "File \u001b[1;32m<__array_function__ internals>:180\u001b[0m, in \u001b[0;36mdot\u001b[1;34m(*args, **kwargs)\u001b[0m\n",
      "\u001b[1;31mValueError\u001b[0m: shapes (17290,2) and (17290,17290) not aligned: 2 (dim 1) != 17290 (dim 0)"
     ]
    }
   ],
   "source": [
    "# Building the model\n",
    "def crear_modelo(X_data, Y_data, polinomio):\n",
    "    x = matriz_pol(X_data, polinomio) # X de forma de matriz de grado 1\n",
    "    y = matriz_Y(Y_data)\n",
    "    x_trans = matriz_trans(x) # X transpuesta\n",
    "    w = w_pol(polinomio) # W con valores aleatorios\n",
    "\n",
    "    w_t = w.transpose()\n",
    "    t = np.dot(x, w_t)\n",
    "\n",
    "    # m = w[1]\n",
    "    # c = w[0]\n",
    "\n",
    "    error = 0\n",
    "    L = 0.12  # The learning Rate\n",
    "    epochs = 1000 # The number of iterations\n",
    "\n",
    "    n = len(X_train)\n",
    "\n",
    "    # Performing Gradient Descent \n",
    "    for i in range(epochs): \n",
    "\n",
    "        #new_w = (-2/n) * np.dot(x, w)\n",
    "\n",
    "        # m = m - L * new_w[1]  # Update m\n",
    "        # c = c - L * new_w[0]  # Update c\n",
    "\n",
    "        w = w - L * ((-2/n) * np.dot(x, (y - np.dot(x, w))))\n",
    "\n",
    "        error = (1/n) * (t - np.dot(x, w)).transpose() * (t - np.dot(x, w))\n",
    "        \n",
    "    \n",
    "    return w, error\n",
    "\n",
    "w, error = crear_modelo(X_train, Y_train, 1)\n",
    "    \n",
    "# print (m, c)\n",
    "\n",
    "# W = np.array([c, m])\n",
    "# Y = np.dot(x, W)\n",
    "\n",
    "# max_indx = np.unravel_index(np.argmax(Y), Y.shape)\n",
    "# min_indx = np.unravel_index(np.argmin(Y), Y.shape)\n",
    "\n",
    "# x_maximo = x[max_indx]\n",
    "# x_minimo = x[min_indx]\n",
    "# y_maximo = Y[max_indx]\n",
    "# y_minimo = Y[min_indx]\n",
    "\n",
    "# x = [x_maximo[1], x_minimo[1]]\n",
    "# y = [y_maximo, y_minimo]\n",
    "\n",
    "# plt.plot(X_train, Y_train, 'o', color='black')\n",
    "# plt.plot(x, y, color='red')\n"
   ]
  },
  {
   "attachments": {},
   "cell_type": "markdown",
   "metadata": {},
   "source": [
    "Y es la multiplicacion de las matrices W calculadas con valores aleatorios y de la matriz X. Con esto, se calcularon los valores maximos y minimos en Y y se obtuvieron sus valores correspondientes en X para poder graficarlo."
   ]
  }
 ],
 "metadata": {
  "kernelspec": {
   "display_name": "Python 3",
   "language": "python",
   "name": "python3"
  },
  "language_info": {
   "codemirror_mode": {
    "name": "ipython",
    "version": 3
   },
   "file_extension": ".py",
   "mimetype": "text/x-python",
   "name": "python",
   "nbconvert_exporter": "python",
   "pygments_lexer": "ipython3",
   "version": "3.10.7"
  },
  "orig_nbformat": 4,
  "vscode": {
   "interpreter": {
    "hash": "bfe929c65df340e894f9ae71bf770ec33e495c52b632e52ba7aa719fa88215b3"
   }
  }
 },
 "nbformat": 4,
 "nbformat_minor": 2
}
